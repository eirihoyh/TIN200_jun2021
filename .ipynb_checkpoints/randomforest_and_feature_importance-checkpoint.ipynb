{
 "cells": [
  {
   "cell_type": "code",
   "execution_count": 1,
   "metadata": {},
   "outputs": [],
   "source": [
    "import pandas as pd\n",
    "import numpy as np\n",
    "\n",
    "from sklearn.impute import MissingIndicator\n",
    "from sklearn.impute import SimpleImputer\n",
    "from sklearn.experimental import enable_iterative_imputer\n",
    "from sklearn.impute import IterativeImputer"
   ]
  },
  {
   "cell_type": "code",
   "execution_count": 2,
   "metadata": {},
   "outputs": [],
   "source": [
    "train = pd.read_csv(\"data/train.csv\", index_col=0)\n",
    "test = pd.read_csv(\"data/test.csv\", index_col=0)  # does not contain targets\n",
    "\n",
    "#Gender\n",
    "train_no_gender = train.copy().drop(columns=\"Gender\")\n",
    "test_no_gedner = test.copy().drop(columns=\"Gender\")\n",
    "\n",
    "# Married\n",
    "train_no_nan_married = train_no_gender.copy().dropna(axis=0, subset=[\"Married\"])\n",
    "train_no_nan_married = pd.get_dummies(train_no_nan_married, columns=[\"Married\"], drop_first=True)\n",
    "\n",
    "# Dependents\n",
    "train_dependent_only_int = train_no_nan_married.copy().replace(\"3+\", 3)\n",
    "for number in range(0, 3):\n",
    "    train_dependent_only_int = train_dependent_only_int.replace(f\"{number}\", number)\n",
    "\n",
    "train_dependents_no_nan = train_dependent_only_int.copy()\n",
    "\n",
    "\n",
    "# Education\n",
    "train_education_dummies = pd.get_dummies(train_dependents_no_nan.copy(), columns=[\"Education\"], drop_first=True)\n",
    "\n",
    "train_self_employed_encoded = train_education_dummies.copy()\n",
    "\n",
    "# Self_Employed\n",
    "\n",
    "train_self_employed_encoded.Self_Employed = train_self_employed_encoded.Self_Employed.replace([\"No\", \"Yes\"], [0, 1]) \n",
    "\n",
    "# Loan_Amount_Term\n",
    "si = SimpleImputer(strategy=\"median\")\n",
    "\n",
    "train_imputed_loan_amount_term = train_self_employed_encoded.copy()\n",
    "train_imputed_loan_amount_term.Loan_Amount_Term = si.fit_transform(train_imputed_loan_amount_term.Loan_Amount_Term.values.reshape(-1, 1))\n",
    "\n",
    "# Credit_History\n",
    "\n",
    "\n",
    "\n",
    "# Property_Area and Loan_Status\n",
    "train_property_area_n_target = pd.get_dummies(train_imputed_loan_amount_term.copy(), columns=[\"Property_Area\", \"Loan_Status\"], drop_first=True)\n",
    "\n",
    "# Loan amount\n",
    "train_LoanAmount_itterative_imputer = train_property_area_n_target.copy()\n",
    "\n",
    "X = train_LoanAmount_itterative_imputer.iloc[:, :-1]\n",
    "y = train_LoanAmount_itterative_imputer.iloc[:, -1]\n",
    "\n",
    "imp_mean = IterativeImputer(random_state=0)\n",
    "X = imp_mean.fit_transform(X)\n",
    "\n",
    "X = pd.DataFrame(X, columns=train_LoanAmount_itterative_imputer.iloc[:, :-1].columns)"
   ]
  },
  {
   "cell_type": "code",
   "execution_count": 6,
   "metadata": {},
   "outputs": [
    {
     "data": {
      "text/plain": [
       "Dependents                 0\n",
       "Self_Employed              0\n",
       "ApplicantIncome            0\n",
       "CoapplicantIncome          0\n",
       "LoanAmount                 0\n",
       "Loan_Amount_Term           0\n",
       "Credit_History             0\n",
       "Married_Yes                0\n",
       "Education_Not Graduate     0\n",
       "Property_Area_Semiurban    0\n",
       "Property_Area_Urban        0\n",
       "dtype: int64"
      ]
     },
     "execution_count": 6,
     "metadata": {},
     "output_type": "execute_result"
    }
   ],
   "source": [
    "X.isnull().sum()"
   ]
  },
  {
   "cell_type": "code",
   "execution_count": null,
   "metadata": {},
   "outputs": [],
   "source": []
  }
 ],
 "metadata": {
  "kernelspec": {
   "display_name": "Python 3",
   "language": "python",
   "name": "python3"
  },
  "language_info": {
   "codemirror_mode": {
    "name": "ipython",
    "version": 3
   },
   "file_extension": ".py",
   "mimetype": "text/x-python",
   "name": "python",
   "nbconvert_exporter": "python",
   "pygments_lexer": "ipython3",
   "version": "3.8.5"
  }
 },
 "nbformat": 4,
 "nbformat_minor": 4
}
