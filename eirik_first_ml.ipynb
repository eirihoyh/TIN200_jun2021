{
 "cells": [
  {
   "cell_type": "code",
   "execution_count": 4,
   "metadata": {},
   "outputs": [],
   "source": [
    "import pandas as pd\n",
    "import numpy as np\n",
    "\n",
    "from sklearn.impute import MissingIndicator\n",
    "from sklearn.impute import SimpleImputer\n",
    "from sklearn.experimental import enable_iterative_imputer\n",
    "from sklearn.impute import IterativeImputer"
   ]
  },
  {
   "cell_type": "code",
   "execution_count": 8,
   "metadata": {},
   "outputs": [],
   "source": [
    "train = pd.read_csv(\"data/train.csv\", index_col=0)\n",
    "test = pd.read_csv(\"data/test.csv\", index_col=0)  # does not contain targets\n",
    "\n",
    "#Gender\n",
    "train_no_gender = train.copy().drop(columns=\"Gender\")\n",
    "test_no_gedner = test.copy().drop(columns=\"Gender\")\n",
    "\n",
    "# Married\n",
    "train_no_nan_married = train_no_gender.copy().dropna(axis=0, subset=[\"Married\"])\n",
    "train_no_nan_married = pd.get_dummies(train_no_nan_married, columns=[\"Married\"], drop_first=True)\n",
    "\n",
    "# Dependents\n",
    "train_dependent_only_int = train_no_nan_married.copy().replace(\"3+\", 3)\n",
    "for number in range(0, 3):\n",
    "    train_dependent_only_int = train_dependent_only_int.replace(f\"{number}\", number)\n",
    "\n",
    "train_dependents_no_nan = train_dependent_only_int.copy()\n",
    "median = np.nanmedian(train_dependent_only_int.Dependents)\n",
    "train_dependents_no_nan[\"Missing_Dependents\"] = [int(x) for x in train_dependent_only_int.Dependents.isnull().values]\n",
    "train_dependents_no_nan.Dependents = train_dependent_only_int.copy().Dependents.fillna(median)\n",
    "\n",
    "# Education\n",
    "train_education_dummies = pd.get_dummies(train_dependents_no_nan.copy(), columns=[\"Education\"], drop_first=True)\n",
    "\n",
    "missing_ind = MissingIndicator(error_on_new=True, features=\"missing-only\")\n",
    "train_self_employed_encoded = train_education_dummies.copy()\n",
    "\n",
    "# Self_Employed\n",
    "train_self_employed_encoded[\"Missing_Self_Employed\"] = missing_ind.fit_transform(train_self_employed_encoded.Self_Employed.values.reshape(-1, 1))\n",
    "train_self_employed_encoded[\"Missing_Self_Employed\"] = train_self_employed_encoded[\"Missing_Self_Employed\"].replace([True, False], [1, 0])\n",
    "train_self_employed_encoded.Self_Employed = train_self_employed_encoded.Self_Employed.replace([np.nan, \"No\", \"Yes\"], [0, 0, 1]) \n",
    "\n",
    "# Loan_Amount_Term\n",
    "si = SimpleImputer(strategy=\"median\")\n",
    "\n",
    "train_imputed_loan_amount_term = train_self_employed_encoded.copy()\n",
    "train_imputed_loan_amount_term.Loan_Amount_Term = si.fit_transform(train_imputed_loan_amount_term.Loan_Amount_Term.values.reshape(-1, 1))\n",
    "\n",
    "# Credit_History\n",
    "train_credit_history_no_nan = train_imputed_loan_amount_term.copy()\n",
    "\n",
    "missing_ind = MissingIndicator(error_on_new=True, features=\"missing-only\")\n",
    "si = SimpleImputer(strategy=\"median\")\n",
    "\n",
    "train_credit_history_no_nan[\"Missing_Credit_History\"] = missing_ind.fit_transform(train_credit_history_no_nan.Credit_History.values.reshape(-1, 1))\n",
    "train_credit_history_no_nan[\"Missing_Credit_History\"] = train_credit_history_no_nan[\"Missing_Credit_History\"].replace([True, False], [1, 0])\n",
    "\n",
    "train_credit_history_no_nan.Credit_History = si.fit_transform(train_credit_history_no_nan.Credit_History.values.reshape(-1, 1))\n",
    "\n",
    "# Property_Area and Loan_Status\n",
    "train_property_area_n_target = pd.get_dummies(train_credit_history_no_nan.copy(), columns=[\"Property_Area\", \"Loan_Status\"], drop_first=True)\n",
    "\n",
    "# Loan amount\n",
    "train_LoanAmount_itterative_imputer = train_property_area_n_target.copy()\n",
    "\n",
    "X = train_LoanAmount_itterative_imputer.iloc[:, :-1]\n",
    "y = train_LoanAmount_itterative_imputer.iloc[:, -1]\n",
    "\n",
    "imp_mean = IterativeImputer(random_state=0)\n",
    "X = imp_mean.fit_transform(X)\n",
    "\n",
    "X = pd.DataFrame(X, columns=train_LoanAmount_itterative_imputer.iloc[:, :-1].columns)"
   ]
  },
  {
   "cell_type": "code",
   "execution_count": null,
   "metadata": {},
   "outputs": [],
   "source": []
  }
 ],
 "metadata": {
  "kernelspec": {
   "display_name": "Python 3",
   "language": "python",
   "name": "python3"
  },
  "language_info": {
   "codemirror_mode": {
    "name": "ipython",
    "version": 3
   },
   "file_extension": ".py",
   "mimetype": "text/x-python",
   "name": "python",
   "nbconvert_exporter": "python",
   "pygments_lexer": "ipython3",
   "version": "3.8.5"
  }
 },
 "nbformat": 4,
 "nbformat_minor": 4
}
